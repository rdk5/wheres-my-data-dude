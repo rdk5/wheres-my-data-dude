{
 "cells": [
  {
   "cell_type": "code",
   "execution_count": 9,
   "metadata": {
    "collapsed": true
   },
   "outputs": [],
   "source": [
    "import pandas as pd\n",
    "import numpy as np"
   ]
  },
  {
   "cell_type": "code",
   "execution_count": 12,
   "metadata": {},
   "outputs": [
    {
     "data": {
      "text/html": [
       "<div>\n",
       "<style>\n",
       "    .dataframe thead tr:only-child th {\n",
       "        text-align: right;\n",
       "    }\n",
       "\n",
       "    .dataframe thead th {\n",
       "        text-align: left;\n",
       "    }\n",
       "\n",
       "    .dataframe tbody tr th {\n",
       "        vertical-align: top;\n",
       "    }\n",
       "</style>\n",
       "<table border=\"1\" class=\"dataframe\">\n",
       "  <thead>\n",
       "    <tr style=\"text-align: right;\">\n",
       "      <th></th>\n",
       "      <th>username</th>\n",
       "      <th>date</th>\n",
       "      <th>retweets</th>\n",
       "      <th>text</th>\n",
       "      <th>id</th>\n",
       "      <th>permalink</th>\n",
       "    </tr>\n",
       "  </thead>\n",
       "  <tbody>\n",
       "    <tr>\n",
       "      <th>0</th>\n",
       "      <td>zogita26</td>\n",
       "      <td>10/8/16 19:48</td>\n",
       "      <td>0</td>\n",
       "      <td>here's short and sweet review of Born a Crime ...</td>\n",
       "      <td>784903203615891000</td>\n",
       "      <td>https://twitter.com/zogita26/status/7849032036...</td>\n",
       "    </tr>\n",
       "    <tr>\n",
       "      <th>1</th>\n",
       "      <td>PhotographyArt_</td>\n",
       "      <td>10/8/16 14:59</td>\n",
       "      <td>0</td>\n",
       "      <td>#10: Born a Crime : Stories from a South Afric...</td>\n",
       "      <td>784830525189992000</td>\n",
       "      <td>https://twitter.com/PhotographyArt_/status/784...</td>\n",
       "    </tr>\n",
       "    <tr>\n",
       "      <th>2</th>\n",
       "      <td>NormanAladjem</td>\n",
       "      <td>10/8/16 14:41</td>\n",
       "      <td>0</td>\n",
       "      <td>Amazing night at the Kennedy Center. #BornACri...</td>\n",
       "      <td>784826054351458000</td>\n",
       "      <td>https://twitter.com/NormanAladjem/status/78482...</td>\n",
       "    </tr>\n",
       "    <tr>\n",
       "      <th>3</th>\n",
       "      <td>NerdintheCity</td>\n",
       "      <td>10/8/16 14:12</td>\n",
       "      <td>0</td>\n",
       "      <td>I wish  Born a Crime \" was out already I want ...</td>\n",
       "      <td>784818709441413000</td>\n",
       "      <td>https://twitter.com/NerdintheCity/status/78481...</td>\n",
       "    </tr>\n",
       "    <tr>\n",
       "      <th>4</th>\n",
       "      <td>bookusbot</td>\n",
       "      <td>10/8/16 13:08</td>\n",
       "      <td>0</td>\n",
       "      <td>Born a Crime : Stories from a South African Ch...</td>\n",
       "      <td>784802552776843000</td>\n",
       "      <td>https://twitter.com/bookusbot/status/784802552...</td>\n",
       "    </tr>\n",
       "  </tbody>\n",
       "</table>\n",
       "</div>"
      ],
      "text/plain": [
       "          username           date   retweets  \\\n",
       "0         zogita26  10/8/16 19:48          0   \n",
       "1  PhotographyArt_  10/8/16 14:59          0   \n",
       "2    NormanAladjem  10/8/16 14:41          0   \n",
       "3    NerdintheCity  10/8/16 14:12          0   \n",
       "4        bookusbot  10/8/16 13:08          0   \n",
       "\n",
       "                                                text                  id  \\\n",
       "0  here's short and sweet review of Born a Crime ...  784903203615891000   \n",
       "1  #10: Born a Crime : Stories from a South Afric...  784830525189992000   \n",
       "2  Amazing night at the Kennedy Center. #BornACri...  784826054351458000   \n",
       "3  I wish  Born a Crime \" was out already I want ...  784818709441413000   \n",
       "4  Born a Crime : Stories from a South African Ch...  784802552776843000   \n",
       "\n",
       "                                           permalink  \n",
       "0  https://twitter.com/zogita26/status/7849032036...  \n",
       "1  https://twitter.com/PhotographyArt_/status/784...  \n",
       "2  https://twitter.com/NormanAladjem/status/78482...  \n",
       "3  https://twitter.com/NerdintheCity/status/78481...  \n",
       "4  https://twitter.com/bookusbot/status/784802552...  "
      ]
     },
     "execution_count": 12,
     "metadata": {},
     "output_type": "execute_result"
    }
   ],
   "source": [
    "# The path to our CSV file\n",
    "file = \"born-a-crime_data.csv\"\n",
    "\n",
    "# Read our Kickstarter data into pandas\n",
    "df = pd.read_csv(file)\n",
    "df.head()"
   ]
  },
  {
   "cell_type": "code",
   "execution_count": null,
   "metadata": {
    "collapsed": true
   },
   "outputs": [],
   "source": []
  },
  {
   "cell_type": "code",
   "execution_count": null,
   "metadata": {
    "collapsed": true
   },
   "outputs": [],
   "source": []
  }
 ],
 "metadata": {
  "kernelspec": {
   "display_name": "Python 3",
   "language": "python",
   "name": "python3"
  },
  "language_info": {
   "codemirror_mode": {
    "name": "ipython",
    "version": 3
   },
   "file_extension": ".py",
   "mimetype": "text/x-python",
   "name": "python",
   "nbconvert_exporter": "python",
   "pygments_lexer": "ipython3",
   "version": "3.6.1"
  }
 },
 "nbformat": 4,
 "nbformat_minor": 2
}
